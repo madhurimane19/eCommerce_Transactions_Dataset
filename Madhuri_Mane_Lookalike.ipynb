{
 "cells": [
  {
   "cell_type": "code",
   "execution_count": 7,
   "id": "e76d2156-96ff-4503-960d-fd2c04df1ee2",
   "metadata": {},
   "outputs": [],
   "source": [
    "import numpy as np\n",
    "import pandas as pd\n",
    "from sklearn.metrics.pairwise import cosine_similarity\n",
    "from sklearn.preprocessing import MinMaxScaler\n",
    "\n",
    "# Load dataset\n",
    "customers_df = pd.read_csv(r\"Downloads/Customers.csv\")\n",
    "products_df = pd.read_csv(r\"Downloads/Products.csv\")  \n",
    "transactions_df = pd.read_csv(r\"Downloads/Transactions.csv\")"
   ]
  },
  {
   "cell_type": "code",
   "execution_count": 8,
   "id": "783d40cb-974b-4c22-a08b-04dd4ada7363",
   "metadata": {},
   "outputs": [],
   "source": [
    "# Merging two tables\n",
    "customer_profile = pd.merge(customers_df, transactions_df, on='CustomerID', how='left')\n",
    "customer_profile1 = pd.merge(customer_profile, products_df, on='ProductID', how='left')\n"
   ]
  },
  {
   "cell_type": "code",
   "execution_count": 9,
   "id": "afcd7a82-c05c-4795-b4b0-4f8b637118f1",
   "metadata": {},
   "outputs": [
    {
     "data": {
      "text/html": [
       "<div>\n",
       "<style scoped>\n",
       "    .dataframe tbody tr th:only-of-type {\n",
       "        vertical-align: middle;\n",
       "    }\n",
       "\n",
       "    .dataframe tbody tr th {\n",
       "        vertical-align: top;\n",
       "    }\n",
       "\n",
       "    .dataframe thead th {\n",
       "        text-align: right;\n",
       "    }\n",
       "</style>\n",
       "<table border=\"1\" class=\"dataframe\">\n",
       "  <thead>\n",
       "    <tr style=\"text-align: right;\">\n",
       "      <th></th>\n",
       "      <th>CustomerID</th>\n",
       "      <th>CustomerName</th>\n",
       "      <th>Region</th>\n",
       "      <th>SignupDate</th>\n",
       "      <th>TransactionID</th>\n",
       "      <th>ProductID</th>\n",
       "      <th>TransactionDate</th>\n",
       "      <th>Quantity</th>\n",
       "      <th>TotalValue</th>\n",
       "      <th>Price_x</th>\n",
       "      <th>ProductName</th>\n",
       "      <th>Category</th>\n",
       "      <th>Price_y</th>\n",
       "    </tr>\n",
       "  </thead>\n",
       "  <tbody>\n",
       "    <tr>\n",
       "      <th>0</th>\n",
       "      <td>C0001</td>\n",
       "      <td>Lawrence Carroll</td>\n",
       "      <td>South America</td>\n",
       "      <td>2022-07-10</td>\n",
       "      <td>T00015</td>\n",
       "      <td>P054</td>\n",
       "      <td>2024-01-19 03:12:55</td>\n",
       "      <td>2.0</td>\n",
       "      <td>114.60</td>\n",
       "      <td>57.30</td>\n",
       "      <td>SoundWave Cookbook</td>\n",
       "      <td>Books</td>\n",
       "      <td>57.30</td>\n",
       "    </tr>\n",
       "    <tr>\n",
       "      <th>1</th>\n",
       "      <td>C0001</td>\n",
       "      <td>Lawrence Carroll</td>\n",
       "      <td>South America</td>\n",
       "      <td>2022-07-10</td>\n",
       "      <td>T00932</td>\n",
       "      <td>P022</td>\n",
       "      <td>2024-09-17 09:01:18</td>\n",
       "      <td>3.0</td>\n",
       "      <td>412.62</td>\n",
       "      <td>137.54</td>\n",
       "      <td>HomeSense Wall Art</td>\n",
       "      <td>Home Decor</td>\n",
       "      <td>137.54</td>\n",
       "    </tr>\n",
       "    <tr>\n",
       "      <th>2</th>\n",
       "      <td>C0001</td>\n",
       "      <td>Lawrence Carroll</td>\n",
       "      <td>South America</td>\n",
       "      <td>2022-07-10</td>\n",
       "      <td>T00085</td>\n",
       "      <td>P096</td>\n",
       "      <td>2024-04-08 00:01:00</td>\n",
       "      <td>2.0</td>\n",
       "      <td>614.94</td>\n",
       "      <td>307.47</td>\n",
       "      <td>SoundWave Headphones</td>\n",
       "      <td>Electronics</td>\n",
       "      <td>307.47</td>\n",
       "    </tr>\n",
       "    <tr>\n",
       "      <th>3</th>\n",
       "      <td>C0001</td>\n",
       "      <td>Lawrence Carroll</td>\n",
       "      <td>South America</td>\n",
       "      <td>2022-07-10</td>\n",
       "      <td>T00445</td>\n",
       "      <td>P083</td>\n",
       "      <td>2024-05-07 03:11:44</td>\n",
       "      <td>2.0</td>\n",
       "      <td>911.44</td>\n",
       "      <td>455.72</td>\n",
       "      <td>ActiveWear Smartwatch</td>\n",
       "      <td>Electronics</td>\n",
       "      <td>455.72</td>\n",
       "    </tr>\n",
       "    <tr>\n",
       "      <th>4</th>\n",
       "      <td>C0001</td>\n",
       "      <td>Lawrence Carroll</td>\n",
       "      <td>South America</td>\n",
       "      <td>2022-07-10</td>\n",
       "      <td>T00436</td>\n",
       "      <td>P029</td>\n",
       "      <td>2024-11-02 17:04:16</td>\n",
       "      <td>3.0</td>\n",
       "      <td>1300.92</td>\n",
       "      <td>433.64</td>\n",
       "      <td>TechPro Headphones</td>\n",
       "      <td>Electronics</td>\n",
       "      <td>433.64</td>\n",
       "    </tr>\n",
       "  </tbody>\n",
       "</table>\n",
       "</div>"
      ],
      "text/plain": [
       "  CustomerID      CustomerName         Region  SignupDate TransactionID  \\\n",
       "0      C0001  Lawrence Carroll  South America  2022-07-10        T00015   \n",
       "1      C0001  Lawrence Carroll  South America  2022-07-10        T00932   \n",
       "2      C0001  Lawrence Carroll  South America  2022-07-10        T00085   \n",
       "3      C0001  Lawrence Carroll  South America  2022-07-10        T00445   \n",
       "4      C0001  Lawrence Carroll  South America  2022-07-10        T00436   \n",
       "\n",
       "  ProductID      TransactionDate  Quantity  TotalValue  Price_x  \\\n",
       "0      P054  2024-01-19 03:12:55       2.0      114.60    57.30   \n",
       "1      P022  2024-09-17 09:01:18       3.0      412.62   137.54   \n",
       "2      P096  2024-04-08 00:01:00       2.0      614.94   307.47   \n",
       "3      P083  2024-05-07 03:11:44       2.0      911.44   455.72   \n",
       "4      P029  2024-11-02 17:04:16       3.0     1300.92   433.64   \n",
       "\n",
       "             ProductName     Category  Price_y  \n",
       "0     SoundWave Cookbook        Books    57.30  \n",
       "1     HomeSense Wall Art   Home Decor   137.54  \n",
       "2   SoundWave Headphones  Electronics   307.47  \n",
       "3  ActiveWear Smartwatch  Electronics   455.72  \n",
       "4     TechPro Headphones  Electronics   433.64  "
      ]
     },
     "execution_count": 9,
     "metadata": {},
     "output_type": "execute_result"
    }
   ],
   "source": [
    "customer_profile1.head()"
   ]
  },
  {
   "cell_type": "code",
   "execution_count": 10,
   "id": "96dc4bca-f5e9-4ec9-a8b5-51f874f511a6",
   "metadata": {},
   "outputs": [],
   "source": [
    "# Aggregating transaction and product-level data\n",
    "customer_metrics = customer_profile1.groupby('CustomerID').agg(\n",
    "    total_spend=('TotalValue', 'sum'),\n",
    "    avg_spend=('TotalValue', 'mean'),\n",
    "    total_quantity=('Quantity', 'sum'),\n",
    "    unique_products=('ProductID', 'nunique')\n",
    ").reset_index()"
   ]
  },
  {
   "cell_type": "code",
   "execution_count": 11,
   "id": "0d1ac51e-3e46-423e-815e-ef5a0c6d6b16",
   "metadata": {},
   "outputs": [],
   "source": [
    "# Add customer profile features\n",
    "customer_features = pd.merge(customer_metrics, customers_df, on='CustomerID', how='left')"
   ]
  },
  {
   "cell_type": "code",
   "execution_count": 12,
   "id": "ec038709-f1d3-47ec-9186-ff96c4e083c4",
   "metadata": {},
   "outputs": [],
   "source": [
    "# Encode categorical features (e.g., Region)\n",
    "customer_features = pd.get_dummies(customer_features, columns=['Region'], drop_first=True)"
   ]
  },
  {
   "cell_type": "code",
   "execution_count": 18,
   "id": "a8e525cf-64dc-436d-9267-1bf443672446",
   "metadata": {},
   "outputs": [
    {
     "name": "stdout",
     "output_type": "stream",
     "text": [
      "total_spend             float64\n",
      "avg_spend               float64\n",
      "total_quantity          float64\n",
      "unique_products           int64\n",
      "CustomerName             object\n",
      "SignupDate               object\n",
      "Region_Europe              bool\n",
      "Region_North America       bool\n",
      "Region_South America       bool\n",
      "dtype: object\n"
     ]
    }
   ],
   "source": [
    "# Create a similarity matrix using cosine similarity\n",
    "feature_matrix = customer_features.drop(columns=['CustomerID'])\n",
    "print(feature_matrix.dtypes)\n",
    "#similarity_matrix = cosine_similarity(feature_matrix)\n"
   ]
  },
  {
   "cell_type": "code",
   "execution_count": 19,
   "id": "9ff67009-524e-4bbd-a9de-2b48a2fa7920",
   "metadata": {},
   "outputs": [],
   "source": [
    "feature_matrix = feature_matrix.apply(pd.to_numeric, errors='coerce')  # Convert to numeric\n"
   ]
  },
  {
   "cell_type": "code",
   "execution_count": 20,
   "id": "9c222472-4ea8-4873-abe7-e5bf3f979c79",
   "metadata": {},
   "outputs": [
    {
     "data": {
      "text/plain": [
       "total_spend               0\n",
       "avg_spend                 1\n",
       "total_quantity            0\n",
       "unique_products           0\n",
       "CustomerName            200\n",
       "SignupDate              200\n",
       "Region_Europe             0\n",
       "Region_North America      0\n",
       "Region_South America      0\n",
       "dtype: int64"
      ]
     },
     "execution_count": 20,
     "metadata": {},
     "output_type": "execute_result"
    }
   ],
   "source": [
    "feature_matrix.isnull().sum()"
   ]
  },
  {
   "cell_type": "code",
   "execution_count": 21,
   "id": "ad697dff-1418-4ba3-b4f5-be06832b1141",
   "metadata": {},
   "outputs": [],
   "source": [
    "feature_matrix = feature_matrix.fillna(0) "
   ]
  },
  {
   "cell_type": "code",
   "execution_count": 35,
   "id": "c529603e-4eb1-4e1f-be23-0b832fcb6b3e",
   "metadata": {},
   "outputs": [
    {
     "name": "stdout",
     "output_type": "stream",
     "text": [
      "total_spend             float64\n",
      "avg_spend               float64\n",
      "total_quantity          float64\n",
      "unique_products         float64\n",
      "CustomerName             object\n",
      "SignupDate               object\n",
      "Region_Europe              bool\n",
      "Region_North America       bool\n",
      "Region_South America       bool\n",
      "dtype: object\n"
     ]
    }
   ],
   "source": [
    "from sklearn.metrics.pairwise import cosine_similarity\n",
    "\n",
    "print(feature_matrix.dtypes)  # Verify all columns are numeric\n",
    "\n"
   ]
  },
  {
   "cell_type": "code",
   "execution_count": 26,
   "id": "f702731d-2207-49eb-b79e-d8fbbe0ebad3",
   "metadata": {},
   "outputs": [
    {
     "data": {
      "text/html": [
       "<style>#sk-container-id-1 {color: black;background-color: white;}#sk-container-id-1 pre{padding: 0;}#sk-container-id-1 div.sk-toggleable {background-color: white;}#sk-container-id-1 label.sk-toggleable__label {cursor: pointer;display: block;width: 100%;margin-bottom: 0;padding: 0.3em;box-sizing: border-box;text-align: center;}#sk-container-id-1 label.sk-toggleable__label-arrow:before {content: \"▸\";float: left;margin-right: 0.25em;color: #696969;}#sk-container-id-1 label.sk-toggleable__label-arrow:hover:before {color: black;}#sk-container-id-1 div.sk-estimator:hover label.sk-toggleable__label-arrow:before {color: black;}#sk-container-id-1 div.sk-toggleable__content {max-height: 0;max-width: 0;overflow: hidden;text-align: left;background-color: #f0f8ff;}#sk-container-id-1 div.sk-toggleable__content pre {margin: 0.2em;color: black;border-radius: 0.25em;background-color: #f0f8ff;}#sk-container-id-1 input.sk-toggleable__control:checked~div.sk-toggleable__content {max-height: 200px;max-width: 100%;overflow: auto;}#sk-container-id-1 input.sk-toggleable__control:checked~label.sk-toggleable__label-arrow:before {content: \"▾\";}#sk-container-id-1 div.sk-estimator input.sk-toggleable__control:checked~label.sk-toggleable__label {background-color: #d4ebff;}#sk-container-id-1 div.sk-label input.sk-toggleable__control:checked~label.sk-toggleable__label {background-color: #d4ebff;}#sk-container-id-1 input.sk-hidden--visually {border: 0;clip: rect(1px 1px 1px 1px);clip: rect(1px, 1px, 1px, 1px);height: 1px;margin: -1px;overflow: hidden;padding: 0;position: absolute;width: 1px;}#sk-container-id-1 div.sk-estimator {font-family: monospace;background-color: #f0f8ff;border: 1px dotted black;border-radius: 0.25em;box-sizing: border-box;margin-bottom: 0.5em;}#sk-container-id-1 div.sk-estimator:hover {background-color: #d4ebff;}#sk-container-id-1 div.sk-parallel-item::after {content: \"\";width: 100%;border-bottom: 1px solid gray;flex-grow: 1;}#sk-container-id-1 div.sk-label:hover label.sk-toggleable__label {background-color: #d4ebff;}#sk-container-id-1 div.sk-serial::before {content: \"\";position: absolute;border-left: 1px solid gray;box-sizing: border-box;top: 0;bottom: 0;left: 50%;z-index: 0;}#sk-container-id-1 div.sk-serial {display: flex;flex-direction: column;align-items: center;background-color: white;padding-right: 0.2em;padding-left: 0.2em;position: relative;}#sk-container-id-1 div.sk-item {position: relative;z-index: 1;}#sk-container-id-1 div.sk-parallel {display: flex;align-items: stretch;justify-content: center;background-color: white;position: relative;}#sk-container-id-1 div.sk-item::before, #sk-container-id-1 div.sk-parallel-item::before {content: \"\";position: absolute;border-left: 1px solid gray;box-sizing: border-box;top: 0;bottom: 0;left: 50%;z-index: -1;}#sk-container-id-1 div.sk-parallel-item {display: flex;flex-direction: column;z-index: 1;position: relative;background-color: white;}#sk-container-id-1 div.sk-parallel-item:first-child::after {align-self: flex-end;width: 50%;}#sk-container-id-1 div.sk-parallel-item:last-child::after {align-self: flex-start;width: 50%;}#sk-container-id-1 div.sk-parallel-item:only-child::after {width: 0;}#sk-container-id-1 div.sk-dashed-wrapped {border: 1px dashed gray;margin: 0 0.4em 0.5em 0.4em;box-sizing: border-box;padding-bottom: 0.4em;background-color: white;}#sk-container-id-1 div.sk-label label {font-family: monospace;font-weight: bold;display: inline-block;line-height: 1.2em;}#sk-container-id-1 div.sk-label-container {text-align: center;}#sk-container-id-1 div.sk-container {/* jupyter's `normalize.less` sets `[hidden] { display: none; }` but bootstrap.min.css set `[hidden] { display: none !important; }` so we also need the `!important` here to be able to override the default hidden behavior on the sphinx rendered scikit-learn.org. See: https://github.com/scikit-learn/scikit-learn/issues/21755 */display: inline-block !important;position: relative;}#sk-container-id-1 div.sk-text-repr-fallback {display: none;}</style><div id=\"sk-container-id-1\" class=\"sk-top-container\"><div class=\"sk-text-repr-fallback\"><pre>NearestNeighbors(n_neighbors=3)</pre><b>In a Jupyter environment, please rerun this cell to show the HTML representation or trust the notebook. <br />On GitHub, the HTML representation is unable to render, please try loading this page with nbviewer.org.</b></div><div class=\"sk-container\" hidden><div class=\"sk-item\"><div class=\"sk-estimator sk-toggleable\"><input class=\"sk-toggleable__control sk-hidden--visually\" id=\"sk-estimator-id-1\" type=\"checkbox\" checked><label for=\"sk-estimator-id-1\" class=\"sk-toggleable__label sk-toggleable__label-arrow\">NearestNeighbors</label><div class=\"sk-toggleable__content\"><pre>NearestNeighbors(n_neighbors=3)</pre></div></div></div></div></div>"
      ],
      "text/plain": [
       "NearestNeighbors(n_neighbors=3)"
      ]
     },
     "execution_count": 26,
     "metadata": {},
     "output_type": "execute_result"
    }
   ],
   "source": [
    "from sklearn.impute import SimpleImputer\n",
    "from sklearn.neighbors import NearestNeighbors\n",
    "\n",
    "# Create an imputer to fill missing values with the mean (you can also use median or most frequent)\n",
    "imputer = SimpleImputer(strategy='mean')  # Or strategy='median', 'most_frequent'\n",
    "X_imputed = imputer.fit_transform(feature_matrix)\n",
    "\n",
    "# Now use the NearestNeighbors model\n",
    "nn = NearestNeighbors(n_neighbors=3)\n",
    "nn.fit(X_imputed)\n"
   ]
  },
  {
   "cell_type": "code",
   "execution_count": null,
   "id": "6a597ccf-b46f-40be-96b6-37466cc6c593",
   "metadata": {},
   "outputs": [],
   "source": []
  },
  {
   "cell_type": "code",
   "execution_count": 28,
   "id": "552efb5f-16c8-4e5f-aca0-12cd8451e1bf",
   "metadata": {},
   "outputs": [],
   "source": [
    "from sklearn.preprocessing import StandardScaler\n",
    "from sklearn.cluster import KMeans"
   ]
  },
  {
   "cell_type": "code",
   "execution_count": 31,
   "id": "aaaf2787-f5a4-4945-bb7c-7bbb0fb03a97",
   "metadata": {},
   "outputs": [],
   "source": [
    "features = customer_features.drop(columns=['CustomerID'])  # Drop non-numeric columns\n",
    "features = pd.get_dummies(features, drop_first=True)  # One-hot encode categorical data\n",
    "scaler = StandardScaler()\n",
    "scaled_features = scaler.fit_transform(feature_matrix)\n"
   ]
  },
  {
   "cell_type": "code",
   "execution_count": 32,
   "id": "4276fa88-b7bd-40cd-b832-49208af81cda",
   "metadata": {},
   "outputs": [
    {
     "name": "stderr",
     "output_type": "stream",
     "text": [
      "C:\\ProgramData\\anaconda3\\Lib\\site-packages\\sklearn\\cluster\\_kmeans.py:870: FutureWarning: The default value of `n_init` will change from 10 to 'auto' in 1.4. Set the value of `n_init` explicitly to suppress the warning\n",
      "  warnings.warn(\n",
      "C:\\ProgramData\\anaconda3\\Lib\\site-packages\\sklearn\\cluster\\_kmeans.py:1382: UserWarning: KMeans is known to have a memory leak on Windows with MKL, when there are less chunks than available threads. You can avoid it by setting the environment variable OMP_NUM_THREADS=1.\n",
      "  warnings.warn(\n"
     ]
    }
   ],
   "source": [
    "# Apply K-Means Clustering\n",
    "kmeans = KMeans(n_clusters=5, random_state=42)\n",
    "customer_features['Cluster'] = kmeans.fit_predict(scaled_features)\n",
    "\n"
   ]
  },
  {
   "cell_type": "code",
   "execution_count": 33,
   "id": "c87e95ad-d42d-482c-82b7-13e73f5017be",
   "metadata": {},
   "outputs": [],
   "source": [
    "# Find Lookalikes for the first 20 customers\n",
    "lookalikes = {}\n",
    "for cust_id in customer_features['CustomerID'][:20]:\n",
    "    cluster = customer_features.loc[customer_features['CustomerID'] == cust_id, 'Cluster'].values[0]\n",
    "    similar_customers = customer_features[customer_features['Cluster'] == cluster]['CustomerID'].tolist()\n",
    "    lookalikes[cust_id] = [c for c in similar_customers if c != cust_id][:3]  # Top 3 excluding self\n",
    "\n"
   ]
  },
  {
   "cell_type": "code",
   "execution_count": 34,
   "id": "437a3453-187c-4212-a623-7a06dd5f1ea3",
   "metadata": {},
   "outputs": [
    {
     "name": "stdout",
     "output_type": "stream",
     "text": [
      "{'C0001': ['C0003', 'C0004', 'C0006'], 'C0002': ['C0005', 'C0007', 'C0025'], 'C0003': ['C0001', 'C0004', 'C0006'], 'C0004': ['C0001', 'C0003', 'C0006'], 'C0005': ['C0002', 'C0007', 'C0025'], 'C0006': ['C0001', 'C0003', 'C0004'], 'C0007': ['C0002', 'C0005', 'C0025'], 'C0008': ['C0017', 'C0021', 'C0022'], 'C0009': ['C0010', 'C0014', 'C0019'], 'C0010': ['C0009', 'C0014', 'C0019'], 'C0011': ['C0001', 'C0003', 'C0004'], 'C0012': ['C0001', 'C0003', 'C0004'], 'C0013': ['C0001', 'C0003', 'C0004'], 'C0014': ['C0009', 'C0010', 'C0019'], 'C0015': ['C0016', 'C0018', 'C0020'], 'C0016': ['C0015', 'C0018', 'C0020'], 'C0017': ['C0008', 'C0021', 'C0022'], 'C0018': ['C0015', 'C0016', 'C0020'], 'C0019': ['C0009', 'C0010', 'C0014'], 'C0020': ['C0015', 'C0016', 'C0018']}\n"
     ]
    }
   ],
   "source": [
    "# Print lookalikes\n",
    "print(lookalikes)"
   ]
  },
  {
   "cell_type": "code",
   "execution_count": 44,
   "id": "f2d7a957-05de-4d1c-8d30-70605d80f8f8",
   "metadata": {},
   "outputs": [],
   "source": [
    "lookalikes_df = pd.DataFrame.from_dict(lookalikes, orient='index', columns=['Lookalike1', 'Lookalike2', 'Lookalike3'])\n",
    "\n",
    "# Save the DataFrame to a CSV file\n",
    "lookalikes_df.to_csv('customer_lookalikes.csv')"
   ]
  },
  {
   "cell_type": "code",
   "execution_count": null,
   "id": "1cb1820a-4bc6-4e70-bfef-2de482f09315",
   "metadata": {},
   "outputs": [],
   "source": []
  }
 ],
 "metadata": {
  "kernelspec": {
   "display_name": "Python 3 (ipykernel)",
   "language": "python",
   "name": "python3"
  },
  "language_info": {
   "codemirror_mode": {
    "name": "ipython",
    "version": 3
   },
   "file_extension": ".py",
   "mimetype": "text/x-python",
   "name": "python",
   "nbconvert_exporter": "python",
   "pygments_lexer": "ipython3",
   "version": "3.11.7"
  }
 },
 "nbformat": 4,
 "nbformat_minor": 5
}
